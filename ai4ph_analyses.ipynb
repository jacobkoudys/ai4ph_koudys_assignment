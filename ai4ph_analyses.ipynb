{
 "cells": [
  {
   "cell_type": "code",
   "execution_count": 1,
   "id": "0aa08e0c-3c1e-4e3f-b9ec-b69b6252aaea",
   "metadata": {},
   "outputs": [
    {
     "name": "stderr",
     "output_type": "stream",
     "text": [
      "C:\\Users\\jacob\\AppData\\Local\\Temp\\ipykernel_272004\\4080736814.py:1: DeprecationWarning: \n",
      "Pyarrow will become a required dependency of pandas in the next major release of pandas (pandas 3.0),\n",
      "(to allow more performant data types, such as the Arrow string type, and better interoperability with other libraries)\n",
      "but was not found to be installed on your system.\n",
      "If this would cause problems for you,\n",
      "please provide us feedback at https://github.com/pandas-dev/pandas/issues/54466\n",
      "        \n",
      "  import pandas as pd\n"
     ]
    }
   ],
   "source": [
    "import pandas as pd"
   ]
  },
  {
   "cell_type": "code",
   "execution_count": 18,
   "id": "ae98fa13-20a9-4e6f-898b-1e01374c8711",
   "metadata": {},
   "outputs": [],
   "source": [
    "import matplotlib.pyplot as plt"
   ]
  },
  {
   "cell_type": "code",
   "execution_count": 2,
   "id": "68d09cd9-f8f5-49a7-80d3-33e03c766d1a",
   "metadata": {},
   "outputs": [],
   "source": [
    "df = pd.read_csv('274b819c-5d69-4539-a4db-f2950794138c.csv')"
   ]
  },
  {
   "cell_type": "code",
   "execution_count": 3,
   "id": "6290426a-7660-4e42-8b1c-38f599f6453c",
   "metadata": {},
   "outputs": [
    {
     "data": {
      "text/html": [
       "<div>\n",
       "<style scoped>\n",
       "    .dataframe tbody tr th:only-of-type {\n",
       "        vertical-align: middle;\n",
       "    }\n",
       "\n",
       "    .dataframe tbody tr th {\n",
       "        vertical-align: top;\n",
       "    }\n",
       "\n",
       "    .dataframe thead th {\n",
       "        text-align: right;\n",
       "    }\n",
       "</style>\n",
       "<table border=\"1\" class=\"dataframe\">\n",
       "  <thead>\n",
       "    <tr style=\"text-align: right;\">\n",
       "      <th></th>\n",
       "      <th>_id</th>\n",
       "      <th>date</th>\n",
       "      <th>icu_unvac</th>\n",
       "      <th>icu_partial_vac</th>\n",
       "      <th>icu_full_vac</th>\n",
       "      <th>hospitalnonicu_unvac</th>\n",
       "      <th>hospitalnonicu_partial_vac</th>\n",
       "      <th>hospitalnonicu_full_vac</th>\n",
       "    </tr>\n",
       "  </thead>\n",
       "  <tbody>\n",
       "    <tr>\n",
       "      <th>0</th>\n",
       "      <td>1</td>\n",
       "      <td>2021-08-10T00:00:00</td>\n",
       "      <td>22</td>\n",
       "      <td>3</td>\n",
       "      <td>0</td>\n",
       "      <td>23</td>\n",
       "      <td>4</td>\n",
       "      <td>11</td>\n",
       "    </tr>\n",
       "    <tr>\n",
       "      <th>1</th>\n",
       "      <td>2</td>\n",
       "      <td>2021-08-11T00:00:00</td>\n",
       "      <td>37</td>\n",
       "      <td>5</td>\n",
       "      <td>2</td>\n",
       "      <td>34</td>\n",
       "      <td>7</td>\n",
       "      <td>8</td>\n",
       "    </tr>\n",
       "    <tr>\n",
       "      <th>2</th>\n",
       "      <td>3</td>\n",
       "      <td>2021-08-12T00:00:00</td>\n",
       "      <td>45</td>\n",
       "      <td>5</td>\n",
       "      <td>2</td>\n",
       "      <td>44</td>\n",
       "      <td>7</td>\n",
       "      <td>9</td>\n",
       "    </tr>\n",
       "    <tr>\n",
       "      <th>3</th>\n",
       "      <td>4</td>\n",
       "      <td>2021-08-13T00:00:00</td>\n",
       "      <td>52</td>\n",
       "      <td>5</td>\n",
       "      <td>3</td>\n",
       "      <td>65</td>\n",
       "      <td>6</td>\n",
       "      <td>8</td>\n",
       "    </tr>\n",
       "    <tr>\n",
       "      <th>4</th>\n",
       "      <td>5</td>\n",
       "      <td>2021-08-14T00:00:00</td>\n",
       "      <td>53</td>\n",
       "      <td>4</td>\n",
       "      <td>1</td>\n",
       "      <td>67</td>\n",
       "      <td>6</td>\n",
       "      <td>11</td>\n",
       "    </tr>\n",
       "  </tbody>\n",
       "</table>\n",
       "</div>"
      ],
      "text/plain": [
       "   _id                 date  icu_unvac  icu_partial_vac  icu_full_vac  \\\n",
       "0    1  2021-08-10T00:00:00         22                3             0   \n",
       "1    2  2021-08-11T00:00:00         37                5             2   \n",
       "2    3  2021-08-12T00:00:00         45                5             2   \n",
       "3    4  2021-08-13T00:00:00         52                5             3   \n",
       "4    5  2021-08-14T00:00:00         53                4             1   \n",
       "\n",
       "   hospitalnonicu_unvac  hospitalnonicu_partial_vac  hospitalnonicu_full_vac  \n",
       "0                    23                           4                       11  \n",
       "1                    34                           7                        8  \n",
       "2                    44                           7                        9  \n",
       "3                    65                           6                        8  \n",
       "4                    67                           6                       11  "
      ]
     },
     "execution_count": 3,
     "metadata": {},
     "output_type": "execute_result"
    }
   ],
   "source": [
    "df.head()"
   ]
  },
  {
   "cell_type": "code",
   "execution_count": 4,
   "id": "e2db5dbb-17c6-414a-bbe3-40945705bb5f",
   "metadata": {},
   "outputs": [
    {
     "data": {
      "text/plain": [
       "318"
      ]
     },
     "execution_count": 4,
     "metadata": {},
     "output_type": "execute_result"
    }
   ],
   "source": [
    "len(df)"
   ]
  },
  {
   "cell_type": "code",
   "execution_count": 5,
   "id": "a8dbfcb8-0898-4156-8bdb-3308018a3b1c",
   "metadata": {},
   "outputs": [
    {
     "data": {
      "text/html": [
       "<div>\n",
       "<style scoped>\n",
       "    .dataframe tbody tr th:only-of-type {\n",
       "        vertical-align: middle;\n",
       "    }\n",
       "\n",
       "    .dataframe tbody tr th {\n",
       "        vertical-align: top;\n",
       "    }\n",
       "\n",
       "    .dataframe thead th {\n",
       "        text-align: right;\n",
       "    }\n",
       "</style>\n",
       "<table border=\"1\" class=\"dataframe\">\n",
       "  <thead>\n",
       "    <tr style=\"text-align: right;\">\n",
       "      <th></th>\n",
       "      <th>_id</th>\n",
       "      <th>icu_unvac</th>\n",
       "      <th>icu_partial_vac</th>\n",
       "      <th>icu_full_vac</th>\n",
       "      <th>hospitalnonicu_unvac</th>\n",
       "      <th>hospitalnonicu_partial_vac</th>\n",
       "      <th>hospitalnonicu_full_vac</th>\n",
       "    </tr>\n",
       "  </thead>\n",
       "  <tbody>\n",
       "    <tr>\n",
       "      <th>count</th>\n",
       "      <td>318.000000</td>\n",
       "      <td>318.000000</td>\n",
       "      <td>318.000000</td>\n",
       "      <td>318.000000</td>\n",
       "      <td>318.000000</td>\n",
       "      <td>318.000000</td>\n",
       "      <td>318.000000</td>\n",
       "    </tr>\n",
       "    <tr>\n",
       "      <th>mean</th>\n",
       "      <td>159.500000</td>\n",
       "      <td>70.210692</td>\n",
       "      <td>7.264151</td>\n",
       "      <td>61.223270</td>\n",
       "      <td>196.666667</td>\n",
       "      <td>39.899371</td>\n",
       "      <td>496.000000</td>\n",
       "    </tr>\n",
       "    <tr>\n",
       "      <th>std</th>\n",
       "      <td>91.942917</td>\n",
       "      <td>48.020989</td>\n",
       "      <td>4.580101</td>\n",
       "      <td>59.469716</td>\n",
       "      <td>167.817355</td>\n",
       "      <td>44.409436</td>\n",
       "      <td>545.809814</td>\n",
       "    </tr>\n",
       "    <tr>\n",
       "      <th>min</th>\n",
       "      <td>1.000000</td>\n",
       "      <td>6.000000</td>\n",
       "      <td>1.000000</td>\n",
       "      <td>0.000000</td>\n",
       "      <td>23.000000</td>\n",
       "      <td>4.000000</td>\n",
       "      <td>8.000000</td>\n",
       "    </tr>\n",
       "    <tr>\n",
       "      <th>25%</th>\n",
       "      <td>80.250000</td>\n",
       "      <td>31.000000</td>\n",
       "      <td>4.000000</td>\n",
       "      <td>15.000000</td>\n",
       "      <td>99.000000</td>\n",
       "      <td>11.000000</td>\n",
       "      <td>42.750000</td>\n",
       "    </tr>\n",
       "    <tr>\n",
       "      <th>50%</th>\n",
       "      <td>159.500000</td>\n",
       "      <td>64.000000</td>\n",
       "      <td>6.000000</td>\n",
       "      <td>47.500000</td>\n",
       "      <td>135.500000</td>\n",
       "      <td>22.000000</td>\n",
       "      <td>365.500000</td>\n",
       "    </tr>\n",
       "    <tr>\n",
       "      <th>75%</th>\n",
       "      <td>238.750000</td>\n",
       "      <td>88.750000</td>\n",
       "      <td>9.000000</td>\n",
       "      <td>79.000000</td>\n",
       "      <td>221.500000</td>\n",
       "      <td>49.000000</td>\n",
       "      <td>810.500000</td>\n",
       "    </tr>\n",
       "    <tr>\n",
       "      <th>max</th>\n",
       "      <td>318.000000</td>\n",
       "      <td>232.000000</td>\n",
       "      <td>28.000000</td>\n",
       "      <td>281.000000</td>\n",
       "      <td>784.000000</td>\n",
       "      <td>219.000000</td>\n",
       "      <td>2119.000000</td>\n",
       "    </tr>\n",
       "  </tbody>\n",
       "</table>\n",
       "</div>"
      ],
      "text/plain": [
       "              _id   icu_unvac  icu_partial_vac  icu_full_vac  \\\n",
       "count  318.000000  318.000000       318.000000    318.000000   \n",
       "mean   159.500000   70.210692         7.264151     61.223270   \n",
       "std     91.942917   48.020989         4.580101     59.469716   \n",
       "min      1.000000    6.000000         1.000000      0.000000   \n",
       "25%     80.250000   31.000000         4.000000     15.000000   \n",
       "50%    159.500000   64.000000         6.000000     47.500000   \n",
       "75%    238.750000   88.750000         9.000000     79.000000   \n",
       "max    318.000000  232.000000        28.000000    281.000000   \n",
       "\n",
       "       hospitalnonicu_unvac  hospitalnonicu_partial_vac  \\\n",
       "count            318.000000                  318.000000   \n",
       "mean             196.666667                   39.899371   \n",
       "std              167.817355                   44.409436   \n",
       "min               23.000000                    4.000000   \n",
       "25%               99.000000                   11.000000   \n",
       "50%              135.500000                   22.000000   \n",
       "75%              221.500000                   49.000000   \n",
       "max              784.000000                  219.000000   \n",
       "\n",
       "       hospitalnonicu_full_vac  \n",
       "count               318.000000  \n",
       "mean                496.000000  \n",
       "std                 545.809814  \n",
       "min                   8.000000  \n",
       "25%                  42.750000  \n",
       "50%                 365.500000  \n",
       "75%                 810.500000  \n",
       "max                2119.000000  "
      ]
     },
     "execution_count": 5,
     "metadata": {},
     "output_type": "execute_result"
    }
   ],
   "source": [
    "df.describe()"
   ]
  },
  {
   "cell_type": "code",
   "execution_count": 6,
   "id": "e29985dc-5c57-4d49-9365-6bbbe51f1cf8",
   "metadata": {},
   "outputs": [
    {
     "ename": "SyntaxError",
     "evalue": "invalid syntax (1714509219.py, line 1)",
     "output_type": "error",
     "traceback": [
      "\u001b[1;36m  Cell \u001b[1;32mIn[6], line 1\u001b[1;36m\u001b[0m\n\u001b[1;33m    Data look pretty clean!\u001b[0m\n\u001b[1;37m         ^\u001b[0m\n\u001b[1;31mSyntaxError\u001b[0m\u001b[1;31m:\u001b[0m invalid syntax\n"
     ]
    }
   ],
   "source": [
    "Data look pretty clean!\n",
    "\n",
    "Run means another way."
   ]
  },
  {
   "cell_type": "code",
   "execution_count": 7,
   "id": "707d9d41-8d4d-4a4f-bbe6-a0e5d11b6e75",
   "metadata": {},
   "outputs": [
    {
     "data": {
      "text/plain": [
       "icu_unvac                      70.210692\n",
       "icu_partial_vac                 7.264151\n",
       "icu_full_vac                   61.223270\n",
       "hospitalnonicu_unvac          196.666667\n",
       "hospitalnonicu_partial_vac     39.899371\n",
       "hospitalnonicu_full_vac       496.000000\n",
       "dtype: float64"
      ]
     },
     "execution_count": 7,
     "metadata": {},
     "output_type": "execute_result"
    }
   ],
   "source": [
    "df[['icu_unvac','icu_partial_vac','icu_full_vac','hospitalnonicu_unvac','hospitalnonicu_partial_vac','hospitalnonicu_full_vac']].mean()"
   ]
  },
  {
   "cell_type": "markdown",
   "id": "112e6ec6-1d75-474f-a2bd-26414e065b45",
   "metadata": {},
   "source": [
    "Take some basic percentages of icu vs hospitalnonicu for each category (i.e., unvac, partial vac, full vac)."
   ]
  },
  {
   "cell_type": "code",
   "execution_count": 8,
   "id": "afa346a0-0a84-49f5-9c35-731356c34f15",
   "metadata": {},
   "outputs": [
    {
     "name": "stdout",
     "output_type": "stream",
     "text": [
      "Percentage of unvaccinated people who are hospitalized and end up in ICU:         35.70035177486409\n",
      "Percentage of partially vaccinated people who are hospitalized and end up in ICU: 18.206179066834807\n",
      "Percentage of fully vaccinated people who are hospitalized and end up in ICU:     12.343401298437817\n"
     ]
    }
   ],
   "source": [
    "print('Percentage of unvaccinated people who are hospitalized and end up in ICU:        ',df['icu_unvac'].mean()/df['hospitalnonicu_unvac'].mean()*100)\n",
    "print('Percentage of partially vaccinated people who are hospitalized and end up in ICU:',df['icu_partial_vac'].mean()/df['hospitalnonicu_partial_vac'].mean()*100)\n",
    "print('Percentage of fully vaccinated people who are hospitalized and end up in ICU:    ',df['icu_full_vac'].mean()/df['hospitalnonicu_full_vac'].mean()*100)"
   ]
  },
  {
   "cell_type": "code",
   "execution_count": 9,
   "id": "ea701da0-2ac2-4d63-afb6-e5bdf53eab7f",
   "metadata": {},
   "outputs": [
    {
     "name": "stdout",
     "output_type": "stream",
     "text": [
      "test: 35.70035177486409\n"
     ]
    }
   ],
   "source": [
    "print('test:',df['icu_unvac'].mean()/df['hospitalnonicu_unvac'].mean()*100)"
   ]
  },
  {
   "cell_type": "code",
   "execution_count": 10,
   "id": "05877f91-7ffd-4607-82ae-389f3909ac2d",
   "metadata": {},
   "outputs": [],
   "source": [
    "icu_values = (df['icu_unvac'].mean(),df['icu_partial_vac'].mean(),df['icu_full_vac'].mean())\n",
    "hospital_nonicu_values = (df['hospitalnonicu_unvac'].mean(),df['hospitalnonicu_partial_vac'].mean(),df['hospitalnonicu_full_vac'].mean())"
   ]
  },
  {
   "cell_type": "code",
   "execution_count": 11,
   "id": "e605b987-22c1-4fc4-8420-60e0596f27ed",
   "metadata": {},
   "outputs": [
    {
     "data": {
      "text/plain": [
       "(70.21069182389937, 7.264150943396227, 61.223270440251575)"
      ]
     },
     "execution_count": 11,
     "metadata": {},
     "output_type": "execute_result"
    }
   ],
   "source": [
    "icu_values"
   ]
  },
  {
   "cell_type": "code",
   "execution_count": 12,
   "id": "72d78c6b-f6f8-4397-aae3-0eb594e94508",
   "metadata": {},
   "outputs": [
    {
     "data": {
      "text/plain": [
       "(196.66666666666666, 39.899371069182386, 496.0)"
      ]
     },
     "execution_count": 12,
     "metadata": {},
     "output_type": "execute_result"
    }
   ],
   "source": [
    "hospital_nonicu_values"
   ]
  },
  {
   "cell_type": "markdown",
   "id": "f6d69081-afad-4a21-87f3-068c3ea15097",
   "metadata": {},
   "source": [
    "Visualize potentially misleading raw values comparing unvaccinated vs vaccinated folks #1"
   ]
  },
  {
   "cell_type": "code",
   "execution_count": 19,
   "id": "91a8e91a-8250-42f4-a41f-f28d8cd8644b",
   "metadata": {},
   "outputs": [
    {
     "data": {
      "image/png": "[encoded data removed]",
      "text/plain": [
       "<Figure size 1000x600 with 1 Axes>"
      ]
     },
     "metadata": {},
     "output_type": "display_data"
    }
   ],
   "source": [
    "categories = ['Unvaccinated', 'Partially Vacinnated', 'Fully Vaccinated']\n",
    "\n",
    "plt.figure(figsize=(10, 6))\n",
    "plt.bar(categories, icu_values, color=['red', 'green', 'blue'])\n",
    "plt.title('Basic Bar Plot')\n",
    "plt.xlabel('Categories')\n",
    "plt.ylabel('Values')\n",
    "plt.show()"
   ]
  },
  {
   "cell_type": "raw",
   "id": "7023b679-d3a9-45b6-9666-2ea9497d2dea",
   "metadata": {},
   "source": [
    "Visualize potentially misleading raw values comparing unvaccinated vs vaccinated folks #2"
   ]
  },
  {
   "cell_type": "code",
   "execution_count": 20,
   "id": "e439b0a6-598b-47e1-b69c-a8819fef66eb",
   "metadata": {},
   "outputs": [
    {
     "data": {
      "image/png": "[encoded data removed]",
      "text/plain": [
       "<Figure size 1000x600 with 1 Axes>"
      ]
     },
     "metadata": {},
     "output_type": "display_data"
    }
   ],
   "source": [
    "categories = ['Unvaccinated', 'Partially Vacinnated', 'Fully Vaccinated']\n",
    "\n",
    "plt.figure(figsize=(10, 6))\n",
    "plt.bar(categories, hospital_nonicu_values, color=['red', 'green', 'blue'])\n",
    "plt.title('Basic Bar Plot')\n",
    "plt.xlabel('Categories')\n",
    "plt.ylabel('Values')\n",
    "plt.show()"
   ]
  },
  {
   "cell_type": "markdown",
   "id": "a68d2ae8-2686-49e2-af57-584867c5a914",
   "metadata": {},
   "source": [
    "Without ratios, we might assume that unvaccinated folks are better off (because we haven't accounted for count of unvaccinated and fully vaccinated folks included here). So, let's visualize which percentage in each category ends up in ICU (rather than non-ICU)."
   ]
  },
  {
   "cell_type": "code",
   "execution_count": 25,
   "id": "7b57d41e-1d82-4409-9d65-30c9fc5bac1a",
   "metadata": {},
   "outputs": [
    {
     "data": {
      "image/png": "[encoded data removed]",
      "text/plain": [
       "<Figure size 1000x600 with 1 Axes>"
      ]
     },
     "metadata": {},
     "output_type": "display_data"
    }
   ],
   "source": [
    "percentages = (df['icu_unvac'].mean()/df['hospitalnonicu_unvac'].mean()*100,df['icu_partial_vac'].mean()/df['hospitalnonicu_partial_vac'].mean()*100,df['icu_full_vac'].mean()/df['hospitalnonicu_full_vac'].mean()*100)\n",
    "\n",
    "categories = ['Unvaccinated', 'Partially Vacinnated', 'Fully Vaccinated']\n",
    "\n",
    "plt.figure(figsize=(10, 6))\n",
    "plt.bar(categories, percentages, color=['red', 'green', 'blue'])\n",
    "plt.title('How many people who visited hospital for COVID-19 ended up hospital?')\n",
    "plt.xlabel('Vaccination Category')\n",
    "plt.ylabel('Percentage in ICU')\n",
    "plt.show()"
   ]
  },
  {
   "cell_type": "markdown",
   "id": "11c62860-59b7-4a30-9a0b-3f2bd1eab3cb",
   "metadata": {},
   "source": [
    "It's apparent that unvaccinated and partially vaccinated folks ended up in hospital more than fully vaccinated folks (statistical significance not tested)."
   ]
  }
 ],
 "metadata": {
  "kernelspec": {
   "display_name": "Python 3 (ipykernel)",
   "language": "python",
   "name": "python3"
  },
  "language_info": {
   "codemirror_mode": {
    "name": "ipython",
    "version": 3
   },
   "file_extension": ".py",
   "mimetype": "text/x-python",
   "name": "python",
   "nbconvert_exporter": "python",
   "pygments_lexer": "ipython3",
   "version": "3.12.1"
  }
 },
 "nbformat": 4,
 "nbformat_minor": 5
}
